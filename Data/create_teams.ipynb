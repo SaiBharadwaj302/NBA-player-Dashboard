{
 "cells": [
  {
   "cell_type": "code",
   "execution_count": 2,
   "metadata": {},
   "outputs": [
    {
     "name": "stdout",
     "output_type": "stream",
     "text": [
      "teams.csv created successfully!\n"
     ]
    }
   ],
   "source": [
    "import pandas as pd\n",
    "\n",
    "teams = [\n",
    "    # Eastern Conference\n",
    "    ('BOS', 'Boston Celtics', 'Eastern'),\n",
    "    ('BKN', 'Brooklyn Nets', 'Eastern'),\n",
    "    ('NYK', 'New York Knicks', 'Eastern'),\n",
    "    ('PHI', 'Philadelphia 76ers', 'Eastern'),\n",
    "    ('TOR', 'Toronto Raptors', 'Eastern'),\n",
    "    ('CHI', 'Chicago Bulls', 'Eastern'),\n",
    "    ('CLE', 'Cleveland Cavaliers', 'Eastern'),\n",
    "    ('DET', 'Detroit Pistons', 'Eastern'),\n",
    "    ('IND', 'Indiana Pacers', 'Eastern'),\n",
    "    ('MIL', 'Milwaukee Bucks', 'Eastern'),\n",
    "    ('ATL', 'Atlanta Hawks', 'Eastern'),\n",
    "    ('CHH', 'Charlotte Hornets', 'Eastern'),\n",
    "    ('MIA', 'Miami Heat', 'Eastern'),\n",
    "    ('ORL', 'Orlando Magic', 'Eastern'),\n",
    "    ('WAS', 'Washington Wizards', 'Eastern'),\n",
    "    \n",
    "    # Western Conference\n",
    "    ('DEN', 'Denver Nuggets', 'Western'),\n",
    "    ('MIN', 'Minnesota Timberwolves', 'Western'),\n",
    "    ('OKC', 'Oklahoma City Thunder', 'Western'),\n",
    "    ('POR', 'Portland Trail Blazers', 'Western'),\n",
    "    ('UTA', 'Utah Jazz', 'Western'),\n",
    "    ('GSW', 'Golden State Warriors', 'Western'),\n",
    "    ('LAC', 'Los Angeles Clippers', 'Western'),\n",
    "    ('LAL', 'Los Angeles Lakers', 'Western'),\n",
    "    ('PHO', 'Phoenix Suns', 'Western'),\n",
    "    ('SAC', 'Sacramento Kings', 'Western'),\n",
    "    ('DAL', 'Dallas Mavericks', 'Western'),\n",
    "    ('HOU', 'Houston Rockets', 'Western'),\n",
    "    ('MEM', 'Memphis Grizzlies', 'Western'),\n",
    "    ('NOP', 'New Orleans Pelicans', 'Western'),\n",
    "    ('SAS', 'San Antonio Spurs', 'Western')\n",
    "]\n",
    "\n",
    "df = pd.DataFrame(teams, columns=['abbreviation', 'team_name', 'conference'])\n",
    "df.to_csv('teams.csv', index=False)\n",
    "print(\"teams.csv created successfully!\")"
   ]
  }
 ],
 "metadata": {
  "kernelspec": {
   "display_name": "base",
   "language": "python",
   "name": "python3"
  },
  "language_info": {
   "codemirror_mode": {
    "name": "ipython",
    "version": 3
   },
   "file_extension": ".py",
   "mimetype": "text/x-python",
   "name": "python",
   "nbconvert_exporter": "python",
   "pygments_lexer": "ipython3",
   "version": "3.9.7"
  }
 },
 "nbformat": 4,
 "nbformat_minor": 2
}
