{
 "cells": [
  {
   "cell_type": "code",
   "execution_count": 1,
   "metadata": {},
   "outputs": [],
   "source": [
    "def validate_player_data(json_file):\n",
    "    # Expanded validation rules to match your actual data\n",
    "    validation_rules = {\n",
    "        \"Player\": {\"type\": str, \"required\": True},\n",
    "        \"Pos\": {\"type\": str, \"allowed\": [\"G\", \"PG\", \"SG\", \"F\", \"PF\", \"SF\", \"C\"]},\n",
    "        \"Age\": {\"type\": int, \"min\": 18, \"max\": 45},\n",
    "        \"Tm\": {\"type\": str},  # Team abbreviation\n",
    "        \"Games\": {\"type\": int, \"min\": 1, \"max\": 82},\n",
    "        \"Minutes\": {\"type\": float, \"min\": 0},\n",
    "        \"PPG\": {\"type\": float, \"min\": 0, \"max\": 40},\n",
    "        \"AST\": {\"type\": float, \"min\": 0},\n",
    "        \"TRB\": {\"type\": float, \"min\": 0},\n",
    "        \"STL\": {\"type\": float, \"min\": 0},\n",
    "        \"BLK\": {\"type\": float, \"min\": 0},\n",
    "        \"Efficiency\": {\"type\": float},\n",
    "        \"height\": {\"type\": float, \"min\": 60, \"max\": 96},  # Allow float temporarily\n",
    "        \"weight\": {\"type\": float, \"min\": 150, \"max\": 350},\n",
    "        \"college\": {\"type\": (str, type(None))},\n",
    "        \"born\": {\"type\": int, \"min\": 1950, \"max\": 2005},\n",
    "        \"made\": {\"type\": (bool, type(None))}  # Allow null values\n",
    "    }\n",
    "\n",
    "    # Remove unexpected field check\n",
    "    # (We'll handle this in preprocessing instead)"
   ]
  }
 ],
 "metadata": {
  "kernelspec": {
   "display_name": "base",
   "language": "python",
   "name": "python3"
  },
  "language_info": {
   "codemirror_mode": {
    "name": "ipython",
    "version": 3
   },
   "file_extension": ".py",
   "mimetype": "text/x-python",
   "name": "python",
   "nbconvert_exporter": "python",
   "pygments_lexer": "ipython3",
   "version": "3.9.7"
  }
 },
 "nbformat": 4,
 "nbformat_minor": 2
}
